{
 "cells": [
  {
   "cell_type": "code",
   "execution_count": 1,
   "metadata": {},
   "outputs": [],
   "source": [
    "import numpy as np\n",
    "from lib.dvr2d import *\n",
    "from lib.dvr1d import *\n",
    "from lib.vqe import *\n",
    "from lib.utils import *\n",
    "from lib.pot_gen import *\n",
    "import matplotlib.pyplot as plt\n",
    "from lib.local_utils import *\n",
    "%matplotlib inline\n",
    "\n",
    "plt.rcParams[\"figure.figsize\"] = (8,6)\n",
    "plt.rcParams[\"font.size\"] = 14\n",
    "plt.rcParams[\"figure.dpi\"] = 300\n",
    "\n",
    "%load_ext autoreload"
   ]
  },
  {
   "cell_type": "code",
   "execution_count": 2,
   "metadata": {},
   "outputs": [],
   "source": [
    "cr2_1_pot, lims = get_pot_cr2(1)\n",
    "\n",
    "cr2_1_dvr_options_8 = {\n",
    "    'type': '1d',\n",
    "    'box_lims': (3, 3.8),\n",
    "    'dx': 0.1\n",
    "}\n",
    "\n",
    "params16 = [3.076, 0.054]\n",
    "# params16 = [3.08, 0.054]\n",
    "cr2_1_dvr_options_16 = {\n",
    "    'type': '1d',\n",
    "    'box_lims': (params16[0], params16[0] + 16 * params16[1]),\n",
    "    'dx': params16[1]\n",
    "}\n",
    "\n",
    "cr2_1_dvr_vqe_8 = DVR_VQE(cr2_params, cr2_1_pot, log_dir=scratch_dir + 'test/')\n",
    "cr2_1_dvr_vqe_16 = DVR_VQE(cr2_params, cr2_1_pot, log_dir=scratch_dir + 'test/')\n",
    "\n",
    "cr2_1_h_dvr_8 = cr2_1_dvr_vqe_8.get_h_dvr(cr2_1_dvr_options_8)\n",
    "cr2_1_h_dvr_16 = cr2_1_dvr_vqe_16.get_h_dvr(cr2_1_dvr_options_16)"
   ]
  },
  {
   "cell_type": "code",
   "execution_count": 3,
   "metadata": {},
   "outputs": [],
   "source": [
    "cr2_3_pot, lims = get_pot_cr2(3)\n",
    "\n",
    "cr2_3_dvr_options_8 = {\n",
    "    'type': '1d',\n",
    "    'box_lims': (3.2, 4),\n",
    "    'dx': 0.1\n",
    "}\n",
    "\n",
    "params16 = [3.2, 0.068]\n",
    "cr2_3_dvr_options_16 = {\n",
    "    'type': '1d',\n",
    "    'box_lims': (params16[0], params16[0] + 16 * params16[1]),\n",
    "    'dx': params16[1]\n",
    "}\n",
    "\n",
    "cr2_3_dvr_vqe_8 = DVR_VQE(cr2_params, cr2_3_pot, log_dir=scratch_dir + 'test/')\n",
    "cr2_3_dvr_vqe_16 = DVR_VQE(cr2_params, cr2_3_pot, log_dir=scratch_dir + 'test/')\n",
    "\n",
    "cr2_3_h_dvr_8 = cr2_3_dvr_vqe_8.get_h_dvr(cr2_3_dvr_options_8)\n",
    "cr2_3_h_dvr_16 = cr2_3_dvr_vqe_16.get_h_dvr(cr2_3_dvr_options_16)"
   ]
  },
  {
   "cell_type": "code",
   "execution_count": 4,
   "metadata": {},
   "outputs": [],
   "source": [
    "cr2_5_pot, lims = get_pot_cr2(5)\n",
    "\n",
    "cr2_5_dvr_options_8 = {\n",
    "    'type': '1d',\n",
    "    'box_lims': (3.95, 5.5),\n",
    "    'dx': 0.2\n",
    "}\n",
    "\n",
    "params16 = [3.77, 0.077]\n",
    "cr2_5_dvr_options_16 = {\n",
    "    'type': '1d',\n",
    "    'box_lims': (params16[0], params16[0] + 16 * params16[1]),\n",
    "    'dx': params16[1]\n",
    "}\n",
    "\n",
    "cr2_5_dvr_vqe_8 = DVR_VQE(cr2_params, cr2_5_pot, log_dir=scratch_dir + 'test/')\n",
    "cr2_5_dvr_vqe_16 = DVR_VQE(cr2_params, cr2_5_pot, log_dir=scratch_dir + 'test/')\n",
    "\n",
    "cr2_5_h_dvr_8 = cr2_5_dvr_vqe_8.get_h_dvr(cr2_5_dvr_options_8)\n",
    "cr2_5_h_dvr_16 = cr2_5_dvr_vqe_16.get_h_dvr(cr2_5_dvr_options_16)"
   ]
  },
  {
   "cell_type": "code",
   "execution_count": 5,
   "metadata": {},
   "outputs": [],
   "source": [
    "cr2_7_pot, lims = get_pot_cr2(7)\n",
    "\n",
    "cr2_7_dvr_options_8 = {\n",
    "    'type': '1d',\n",
    "    'box_lims': (4.4, 5.7),\n",
    "    'dx': 0.16\n",
    "}\n",
    "\n",
    "params16 = [4.08, 0.089]\n",
    "cr2_7_dvr_options_16 = {\n",
    "    'type': '1d',\n",
    "    'box_lims': (params16[0], params16[0] + 16 * params16[1]),\n",
    "    'dx': params16[1]\n",
    "}\n",
    "\n",
    "cr2_7_dvr_vqe_8 = DVR_VQE(cr2_params, cr2_7_pot, log_dir=scratch_dir + 'test/')\n",
    "cr2_7_dvr_vqe_16 = DVR_VQE(cr2_params, cr2_7_pot, log_dir=scratch_dir + 'test/')\n",
    "\n",
    "cr2_7_h_dvr_8 = cr2_7_dvr_vqe_8.get_h_dvr(cr2_7_dvr_options_8)\n",
    "cr2_7_h_dvr_16 = cr2_7_dvr_vqe_16.get_h_dvr(cr2_7_dvr_options_16)"
   ]
  },
  {
   "cell_type": "code",
   "execution_count": 6,
   "metadata": {},
   "outputs": [],
   "source": [
    "cr2_9_pot, lims = get_pot_cr2(9)\n",
    "\n",
    "cr2_9_dvr_options_8 = {\n",
    "    'type': '1d',\n",
    "    'box_lims': (4.4, 5.7),\n",
    "    'dx': 0.16\n",
    "}\n",
    "\n",
    "params16 = [4.49, 0.077]\n",
    "cr2_9_dvr_options_16 = {\n",
    "    'type': '1d',\n",
    "    'box_lims': (params16[0], params16[0] + 16 * params16[1]),\n",
    "    'dx': params16[1]\n",
    "}\n",
    "\n",
    "cr2_9_dvr_vqe_8 = DVR_VQE(cr2_params, cr2_9_pot, log_dir=scratch_dir + 'test/')\n",
    "cr2_9_dvr_vqe_16 = DVR_VQE(cr2_params, cr2_9_pot, log_dir=scratch_dir + 'test/')\n",
    "\n",
    "cr2_9_h_dvr_8 = cr2_9_dvr_vqe_8.get_h_dvr(cr2_9_dvr_options_8)\n",
    "cr2_9_h_dvr_16 = cr2_9_dvr_vqe_16.get_h_dvr(cr2_9_dvr_options_16)"
   ]
  },
  {
   "cell_type": "code",
   "execution_count": 7,
   "metadata": {},
   "outputs": [],
   "source": [
    "cr2_11_pot, lims = get_pot_cr2(11)\n",
    "\n",
    "cr2_11_dvr_options_8 = {\n",
    "    'type': '1d',\n",
    "    'box_lims': (4.4, 5.7),\n",
    "    'dx': 0.16\n",
    "}\n",
    "\n",
    "params16 = [4.46, 0.088]\n",
    "cr2_11_dvr_options_16 = {\n",
    "    'type': '1d',\n",
    "    'box_lims': (params16[0], params16[0] + 16 * params16[1]),\n",
    "    'dx': params16[1]\n",
    "}\n",
    "\n",
    "cr2_11_dvr_vqe_8 = DVR_VQE(cr2_params, cr2_11_pot, log_dir=scratch_dir + 'test/')\n",
    "cr2_11_dvr_vqe_16 = DVR_VQE(cr2_params, cr2_11_pot, log_dir=scratch_dir + 'test/')\n",
    "\n",
    "cr2_11_h_dvr_8 = cr2_11_dvr_vqe_8.get_h_dvr(cr2_11_dvr_options_8)\n",
    "cr2_11_h_dvr_16 = cr2_11_dvr_vqe_16.get_h_dvr(cr2_11_dvr_options_16)"
   ]
  },
  {
   "cell_type": "code",
   "execution_count": 8,
   "metadata": {},
   "outputs": [],
   "source": [
    "cr2_13_pot, lims = get_pot_cr2(13)\n",
    "\n",
    "cr2_13_dvr_options_8 = {\n",
    "    'type': '1d',\n",
    "    'box_lims': (5, 7.3),\n",
    "    'dx': 0.3\n",
    "}\n",
    "\n",
    "params16 = [5.61, 0.093]\n",
    "cr2_13_dvr_options_16 = {\n",
    "    'type': '1d',\n",
    "    'box_lims': (params16[0], params16[0] + 16 * params16[1]),\n",
    "    'dx': params16[1]\n",
    "}\n",
    "\n",
    "cr2_13_dvr_vqe_8 = DVR_VQE(cr2_params, cr2_13_pot, log_dir=scratch_dir + 'test/')\n",
    "cr2_13_dvr_vqe_16 = DVR_VQE(cr2_params, cr2_13_pot, log_dir=scratch_dir + 'test/')\n",
    "\n",
    "cr2_13_h_dvr_8 = cr2_13_dvr_vqe_8.get_h_dvr(cr2_13_dvr_options_8)\n",
    "cr2_13_h_dvr_16 = cr2_13_dvr_vqe_16.get_h_dvr(cr2_13_dvr_options_16)"
   ]
  },
  {
   "cell_type": "code",
   "execution_count": 9,
   "metadata": {},
   "outputs": [
    {
     "name": "stdout",
     "output_type": "stream",
     "text": [
      "(34,)\n",
      "(132,)\n"
     ]
    },
    {
     "name": "stderr",
     "output_type": "stream",
     "text": [
      "c:\\Users\\kasna\\OneDrive - UBC\\arc\\root\\project\\dvr_vqe\\2d\\lib\\utils.py:51: ComplexWarning: Casting complex values to real discards the imaginary part\n",
      "  coefs[i] = np.trace(np.dot(p.to_matrix(), h)) / 2**num_qubits\n"
     ]
    }
   ],
   "source": [
    "h_dvr_pauli_8 = pauli_decompose(cr2_1_h_dvr_8)\n",
    "h_dvr_pauli_16 = pauli_decompose(cr2_1_h_dvr_16)\n",
    "print(h_dvr_pauli_8.coeffs.shape)\n",
    "print(h_dvr_pauli_16.coeffs.shape)"
   ]
  },
  {
   "cell_type": "code",
   "execution_count": 10,
   "metadata": {},
   "outputs": [
    {
     "name": "stdout",
     "output_type": "stream",
     "text": [
      "(36,)\n",
      "(128,)\n"
     ]
    }
   ],
   "source": [
    "h_dvr_pauli_8 = pauli_decompose(cr2_3_h_dvr_8)\n",
    "h_dvr_pauli_16 = pauli_decompose(cr2_3_h_dvr_16)\n",
    "print(h_dvr_pauli_8.coeffs.shape)\n",
    "print(h_dvr_pauli_16.coeffs.shape)"
   ]
  },
  {
   "cell_type": "code",
   "execution_count": 11,
   "metadata": {},
   "outputs": [
    {
     "name": "stdout",
     "output_type": "stream",
     "text": [
      "(35,)\n",
      "(128,)\n"
     ]
    }
   ],
   "source": [
    "h_dvr_pauli_8 = pauli_decompose(cr2_5_h_dvr_8)\n",
    "h_dvr_pauli_16 = pauli_decompose(cr2_5_h_dvr_16)\n",
    "print(h_dvr_pauli_8.coeffs.shape)\n",
    "print(h_dvr_pauli_16.coeffs.shape)"
   ]
  },
  {
   "cell_type": "code",
   "execution_count": 12,
   "metadata": {},
   "outputs": [
    {
     "name": "stdout",
     "output_type": "stream",
     "text": [
      "(34,)\n",
      "(130,)\n"
     ]
    }
   ],
   "source": [
    "h_dvr_pauli_8 = pauli_decompose(cr2_7_h_dvr_8)\n",
    "h_dvr_pauli_16 = pauli_decompose(cr2_7_h_dvr_16)\n",
    "print(h_dvr_pauli_8.coeffs.shape)\n",
    "print(h_dvr_pauli_16.coeffs.shape)"
   ]
  },
  {
   "cell_type": "code",
   "execution_count": 13,
   "metadata": {},
   "outputs": [
    {
     "name": "stdout",
     "output_type": "stream",
     "text": [
      "(34,)\n",
      "(130,)\n"
     ]
    }
   ],
   "source": [
    "h_dvr_pauli_8 = pauli_decompose(cr2_9_h_dvr_8)\n",
    "h_dvr_pauli_16 = pauli_decompose(cr2_9_h_dvr_16)\n",
    "print(h_dvr_pauli_8.coeffs.shape)\n",
    "print(h_dvr_pauli_16.coeffs.shape)"
   ]
  },
  {
   "cell_type": "code",
   "execution_count": 14,
   "metadata": {},
   "outputs": [
    {
     "name": "stdout",
     "output_type": "stream",
     "text": [
      "(34,)\n",
      "(131,)\n"
     ]
    }
   ],
   "source": [
    "h_dvr_pauli_8 = pauli_decompose(cr2_11_h_dvr_8)\n",
    "h_dvr_pauli_16 = pauli_decompose(cr2_11_h_dvr_16)\n",
    "print(h_dvr_pauli_8.coeffs.shape)\n",
    "print(h_dvr_pauli_16.coeffs.shape)"
   ]
  },
  {
   "cell_type": "code",
   "execution_count": 15,
   "metadata": {},
   "outputs": [
    {
     "name": "stdout",
     "output_type": "stream",
     "text": [
      "(35,)\n",
      "(132,)\n"
     ]
    }
   ],
   "source": [
    "h_dvr_pauli_8 = pauli_decompose(cr2_13_h_dvr_8)\n",
    "h_dvr_pauli_16 = pauli_decompose(cr2_13_h_dvr_16)\n",
    "print(h_dvr_pauli_8.coeffs.shape)\n",
    "print(h_dvr_pauli_16.coeffs.shape)"
   ]
  },
  {
   "cell_type": "code",
   "execution_count": null,
   "metadata": {},
   "outputs": [],
   "source": []
  }
 ],
 "metadata": {
  "kernelspec": {
   "display_name": "Python 3.10.4 ('qiskit_env')",
   "language": "python",
   "name": "python3"
  },
  "language_info": {
   "codemirror_mode": {
    "name": "ipython",
    "version": 3
   },
   "file_extension": ".py",
   "mimetype": "text/x-python",
   "name": "python",
   "nbconvert_exporter": "python",
   "pygments_lexer": "ipython3",
   "version": "3.10.4 | packaged by conda-forge | (main, Mar 24 2022, 17:32:50) [MSC v.1929 64 bit (AMD64)]"
  },
  "orig_nbformat": 4,
  "vscode": {
   "interpreter": {
    "hash": "2233fe63f74857783562d5cb2946a5823237fd835cc459c07b744bc5eb509c57"
   }
  }
 },
 "nbformat": 4,
 "nbformat_minor": 2
}
