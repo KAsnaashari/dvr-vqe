{
 "cells": [
  {
   "cell_type": "code",
   "execution_count": 1,
   "metadata": {},
   "outputs": [],
   "source": [
    "import numpy as np\n",
    "import qiskit as qs\n",
    "from lib.greedy_circs import find_allowed_gates, build_circuit_ent, partition_string_to_list, partition_list_to_string\n",
    "\n",
    "%load_ext autoreload"
   ]
  },
  {
   "cell_type": "code",
   "execution_count": 2,
   "metadata": {},
   "outputs": [
    {
     "data": {
      "text/plain": [
       "8"
      ]
     },
     "execution_count": 2,
     "metadata": {},
     "output_type": "execute_result"
    }
   ],
   "source": [
    "\n",
    "p = [[0,1,2],[3,4]]\n",
    "reps = 2\n",
    "len(find_allowed_gates(5, reps, p))"
   ]
  },
  {
   "cell_type": "code",
   "execution_count": 9,
   "metadata": {},
   "outputs": [
    {
     "name": "stdout",
     "output_type": "stream",
     "text": [
      "[[0, 1], [2, 3, 4]]\n",
      "0-1234\n"
     ]
    }
   ],
   "source": [
    "%autoreload\n",
    "print(partition_string_to_list('01-234'))\n",
    "print(partition_list_to_string([[0],[1,2,3,4]]))"
   ]
  },
  {
   "cell_type": "code",
   "execution_count": 3,
   "metadata": {},
   "outputs": [
    {
     "data": {
      "text/html": [
       "<pre style=\"word-wrap: normal;white-space: pre;background: #fff0;line-height: 1.1;font-family: &quot;Courier New&quot;,Courier,monospace\">     ┌─────────────┐ ░                 ░ ┌─────────────┐ ░                 ░ »\n",
       "q_0: ┤ Ry($x_{0}$) ├─░───■────■────────░─┤ Ry($x_{5}$) ├─░───■────■────────░─»\n",
       "     ├─────────────┤ ░ ┌─┴─┐  │        ░ ├─────────────┤ ░ ┌─┴─┐  │        ░ »\n",
       "q_1: ┤ Ry($x_{1}$) ├─░─┤ X ├──┼────■───░─┤ Ry($x_{6}$) ├─░─┤ X ├──┼────■───░─»\n",
       "     ├─────────────┤ ░ └───┘┌─┴─┐┌─┴─┐ ░ ├─────────────┤ ░ └───┘┌─┴─┐┌─┴─┐ ░ »\n",
       "q_2: ┤ Ry($x_{2}$) ├─░──────┤ X ├┤ X ├─░─┤ Ry($x_{7}$) ├─░──────┤ X ├┤ X ├─░─»\n",
       "     ├─────────────┤ ░      └───┘└───┘ ░ ├─────────────┤ ░      └───┘└───┘ ░ »\n",
       "q_3: ┤ Ry($x_{3}$) ├─░───■─────────────░─┤ Ry($x_{8}$) ├─░───■─────────────░─»\n",
       "     ├─────────────┤ ░ ┌─┴─┐           ░ ├─────────────┤ ░ ┌─┴─┐           ░ »\n",
       "q_4: ┤ Ry($x_{4}$) ├─░─┤ X ├───────────░─┤ Ry($x_{9}$) ├─░─┤ X ├───────────░─»\n",
       "     └─────────────┘ ░ └───┘           ░ └─────────────┘ ░ └───┘           ░ »\n",
       "«     ┌──────────────┐\n",
       "«q_0: ┤ Ry($x_{10}$) ├\n",
       "«     ├──────────────┤\n",
       "«q_1: ┤ Ry($x_{11}$) ├\n",
       "«     ├──────────────┤\n",
       "«q_2: ┤ Ry($x_{12}$) ├\n",
       "«     ├──────────────┤\n",
       "«q_3: ┤ Ry($x_{13}$) ├\n",
       "«     ├──────────────┤\n",
       "«q_4: ┤ Ry($x_{14}$) ├\n",
       "«     └──────────────┘</pre>"
      ],
      "text/plain": [
       "     ┌─────────────┐ ░                 ░ ┌─────────────┐ ░                 ░ »\n",
       "q_0: ┤ Ry($x_{0}$) ├─░───■────■────────░─┤ Ry($x_{5}$) ├─░───■────■────────░─»\n",
       "     ├─────────────┤ ░ ┌─┴─┐  │        ░ ├─────────────┤ ░ ┌─┴─┐  │        ░ »\n",
       "q_1: ┤ Ry($x_{1}$) ├─░─┤ X ├──┼────■───░─┤ Ry($x_{6}$) ├─░─┤ X ├──┼────■───░─»\n",
       "     ├─────────────┤ ░ └───┘┌─┴─┐┌─┴─┐ ░ ├─────────────┤ ░ └───┘┌─┴─┐┌─┴─┐ ░ »\n",
       "q_2: ┤ Ry($x_{2}$) ├─░──────┤ X ├┤ X ├─░─┤ Ry($x_{7}$) ├─░──────┤ X ├┤ X ├─░─»\n",
       "     ├─────────────┤ ░      └───┘└───┘ ░ ├─────────────┤ ░      └───┘└───┘ ░ »\n",
       "q_3: ┤ Ry($x_{3}$) ├─░───■─────────────░─┤ Ry($x_{8}$) ├─░───■─────────────░─»\n",
       "     ├─────────────┤ ░ ┌─┴─┐           ░ ├─────────────┤ ░ ┌─┴─┐           ░ »\n",
       "q_4: ┤ Ry($x_{4}$) ├─░─┤ X ├───────────░─┤ Ry($x_{9}$) ├─░─┤ X ├───────────░─»\n",
       "     └─────────────┘ ░ └───┘           ░ └─────────────┘ ░ └───┘           ░ »\n",
       "«     ┌──────────────┐\n",
       "«q_0: ┤ Ry($x_{10}$) ├\n",
       "«     ├──────────────┤\n",
       "«q_1: ┤ Ry($x_{11}$) ├\n",
       "«     ├──────────────┤\n",
       "«q_2: ┤ Ry($x_{12}$) ├\n",
       "«     ├──────────────┤\n",
       "«q_3: ┤ Ry($x_{13}$) ├\n",
       "«     ├──────────────┤\n",
       "«q_4: ┤ Ry($x_{14}$) ├\n",
       "«     └──────────────┘"
      ]
     },
     "execution_count": 3,
     "metadata": {},
     "output_type": "execute_result"
    }
   ],
   "source": [
    "ansatz_options = {\n",
    "    'type': 'greedyent',\n",
    "    'constructive': True,\n",
    "    'layers': 10,\n",
    "    'num_keep': 1, \n",
    "    'num_qubits': 5,\n",
    "    'reps': reps\n",
    "}\n",
    "build_circuit_ent(ansatz_options, find_allowed_gates(5, reps, p), True).draw()"
   ]
  },
  {
   "cell_type": "code",
   "execution_count": 12,
   "metadata": {},
   "outputs": [
    {
     "data": {
      "text/plain": [
       "(array([], dtype=int64),)"
      ]
     },
     "execution_count": 12,
     "metadata": {},
     "output_type": "execute_result"
    }
   ],
   "source": [
    "np.where(p == 0)"
   ]
  },
  {
   "cell_type": "code",
   "execution_count": 13,
   "metadata": {},
   "outputs": [
    {
     "ename": "ValueError",
     "evalue": "0 is not in list",
     "output_type": "error",
     "traceback": [
      "\u001b[1;31m---------------------------------------------------------------------------\u001b[0m",
      "\u001b[1;31mValueError\u001b[0m                                Traceback (most recent call last)",
      "\u001b[1;32mc:\\Users\\kasna\\OneDrive - UBC\\arc\\root\\project\\dvr_vqe\\2d\\block_circuits.ipynb Cell 4\u001b[0m in \u001b[0;36m<cell line: 1>\u001b[1;34m()\u001b[0m\n\u001b[1;32m----> <a href='vscode-notebook-cell:/c%3A/Users/kasna/OneDrive%20-%20UBC/arc/root/project/dvr_vqe/2d/block_circuits.ipynb#X10sZmlsZQ%3D%3D?line=0'>1</a>\u001b[0m p\u001b[39m.\u001b[39;49mindex(\u001b[39m0\u001b[39;49m)\n",
      "\u001b[1;31mValueError\u001b[0m: 0 is not in list"
     ]
    }
   ],
   "source": [
    "p.index(0)"
   ]
  },
  {
   "cell_type": "code",
   "execution_count": 17,
   "metadata": {},
   "outputs": [
    {
     "data": {
      "text/plain": [
       "[1]"
      ]
     },
     "execution_count": 17,
     "metadata": {},
     "output_type": "execute_result"
    }
   ],
   "source": [
    "[(i) for i, el in enumerate(p) if 4 in el]"
   ]
  },
  {
   "cell_type": "code",
   "execution_count": null,
   "metadata": {},
   "outputs": [],
   "source": []
  }
 ],
 "metadata": {
  "kernelspec": {
   "display_name": "qiskit_env",
   "language": "python",
   "name": "python3"
  },
  "language_info": {
   "codemirror_mode": {
    "name": "ipython",
    "version": 3
   },
   "file_extension": ".py",
   "mimetype": "text/x-python",
   "name": "python",
   "nbconvert_exporter": "python",
   "pygments_lexer": "ipython3",
   "version": "3.10.4"
  },
  "orig_nbformat": 4,
  "vscode": {
   "interpreter": {
    "hash": "2233fe63f74857783562d5cb2946a5823237fd835cc459c07b744bc5eb509c57"
   }
  }
 },
 "nbformat": 4,
 "nbformat_minor": 2
}
