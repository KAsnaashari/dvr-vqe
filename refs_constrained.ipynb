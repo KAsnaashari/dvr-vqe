{
 "cells": [
  {
   "cell_type": "code",
   "execution_count": 1,
   "metadata": {},
   "outputs": [],
   "source": [
    "import numpy as np\n",
    "from lib.dvr2d import *\n",
    "from lib.dvr1d import *\n",
    "from lib.vqe import *\n",
    "from lib.utils import *\n",
    "from lib.pot_gen import *\n",
    "import matplotlib.pyplot as plt\n",
    "from lib.local_utils import *\n",
    "%matplotlib inline\n",
    "\n",
    "plt.rcParams[\"figure.figsize\"] = (8,6)\n",
    "plt.rcParams[\"font.size\"] = 14\n",
    "plt.rcParams[\"figure.dpi\"] = 300\n",
    "\n",
    "%load_ext autoreload"
   ]
  },
  {
   "cell_type": "code",
   "execution_count": 6,
   "metadata": {},
   "outputs": [],
   "source": [
    "arhcl_pot_file = base_dir + 'arhcl.txt'\n",
    "\n",
    "arhcl_dvr_options_32 = {\n",
    "    'type': 'jacobi',\n",
    "    'J': 0,\n",
    "    'N_R': 35, \n",
    "    'N_theta': 4,\n",
    "    'l': 1,\n",
    "    'K_max': 0,\n",
    "    'r_min': 3.4,\n",
    "    'r_max': 5, \n",
    "    'trunc': 0\n",
    "}\n",
    "\n",
    "arhcl_pot = get_pot(arhcl_pot_file, take_cos=True)\n",
    "arhcl_dvr_vqe = DVR_VQE(arhcl_params, arhcl_pot, log_dir=scratch_dir + 'test/')\n",
    "arhcl_h_dvr = arhcl_dvr_vqe.get_h_dvr(arhcl_dvr_options_32, J=arhcl_dvr_options_32['J'])\n",
    "arhcl_energies_32 = np.linalg.eigvalsh(arhcl_h_dvr) * hartree"
   ]
  },
  {
   "cell_type": "code",
   "execution_count": 7,
   "metadata": {},
   "outputs": [
    {
     "data": {
      "text/plain": [
       "(165,)"
      ]
     },
     "execution_count": 7,
     "metadata": {},
     "output_type": "execute_result"
    }
   ],
   "source": [
    "from lib.utils import pauli_decompose\n",
    "\n",
    "pauli_decompose(arhcl_h_dvr).coeffs.shape"
   ]
  },
  {
   "cell_type": "code",
   "execution_count": 32,
   "metadata": {},
   "outputs": [
    {
     "name": "stdout",
     "output_type": "stream",
     "text": [
      "E 0 =        -115.17796582, E 0 - E0 =           0.00000000\n",
      "E 1 =         -90.95898426, E 1 - E0 =          24.21898157\n",
      "E 2 =         -82.72693286, E 2 - E0 =          32.45103297\n",
      "E 3 =         -63.09330954, E 3 - E0 =          52.08465628\n",
      "E 4 =         -56.63532991, E 4 - E0 =          58.54263591\n",
      "E 5 =         -46.18734647, E 5 - E0 =          68.99061935\n",
      "E 6 =         -36.62898715, E 6 - E0 =          78.54897868\n",
      "E 7 =         -32.39945669, E 7 - E0 =          82.77850914\n",
      "E 8 =         -19.83803742, E 8 - E0 =          95.33992841\n",
      "E 9 =         -11.24464476, E 9 - E0 =         103.93332106\n",
      "E10 =           0.34679021, E10 - E0 =         115.52475604\n",
      "E11 =           4.95242117, E11 - E0 =         120.13038699\n",
      "E12 =          16.98757564, E12 - E0 =         132.16554147\n",
      "E13 =          25.44236138, E13 - E0 =         140.62032720\n",
      "E14 =          31.36441052, E14 - E0 =         146.54237635\n",
      "E15 =          52.58757212, E15 - E0 =         167.76553795\n",
      "E16 =          55.12735970, E16 - E0 =         170.30532553\n",
      "E17 =          61.57002025, E17 - E0 =         176.74798608\n",
      "E18 =          76.20692290, E18 - E0 =         191.38488872\n",
      "E19 =          80.89855332, E19 - E0 =         196.07651915\n",
      "E20 =          98.77314534, E20 - E0 =         213.95111116\n"
     ]
    }
   ],
   "source": [
    "for i in range(21):\n",
    "    print(f'E{i:2d} = {arhcl_energies_32[i]:20.8f}, E{i:2d} - E0 = {arhcl_energies_32[i] - arhcl_energies_32[0]:20.8f}')"
   ]
  },
  {
   "cell_type": "code",
   "execution_count": 8,
   "metadata": {},
   "outputs": [
    {
     "name": "stdout",
     "output_type": "stream",
     "text": [
      "(64, 64)\n"
     ]
    }
   ],
   "source": [
    "arhcl_pot_file = base_dir + 'arhcl.txt'\n",
    "\n",
    "arhcl_dvr_options_64 = {\n",
    "    'type': 'jacobi',\n",
    "    'J': 0,\n",
    "    'N_R': 50, \n",
    "    'N_theta': 4,\n",
    "    'l': 1,\n",
    "    'K_max': 0,\n",
    "    'r_min': 3,\n",
    "    'r_max': 7, \n",
    "    'trunc': 0\n",
    "}\n",
    "\n",
    "arhcl_pot = get_pot(arhcl_pot_file, take_cos=True)\n",
    "arhcl_dvr_vqe = DVR_VQE(arhcl_params, arhcl_pot, log_dir=scratch_dir + 'test/')\n",
    "arhcl_h_dvr = arhcl_dvr_vqe.get_h_dvr(arhcl_dvr_options_64, J=arhcl_dvr_options_64['J'])\n",
    "print(arhcl_h_dvr.shape)\n",
    "arhcl_energies_64 = np.linalg.eigvalsh(arhcl_h_dvr) * hartree"
   ]
  },
  {
   "cell_type": "code",
   "execution_count": 9,
   "metadata": {},
   "outputs": [
    {
     "data": {
      "text/plain": [
       "(610,)"
      ]
     },
     "execution_count": 9,
     "metadata": {},
     "output_type": "execute_result"
    }
   ],
   "source": [
    "from lib.utils import pauli_decompose\n",
    "\n",
    "pauli_decompose(arhcl_h_dvr).coeffs.shape"
   ]
  },
  {
   "cell_type": "code",
   "execution_count": 34,
   "metadata": {},
   "outputs": [
    {
     "name": "stdout",
     "output_type": "stream",
     "text": [
      "E 0 =        -115.19508701, E 0 - E0 =           0.00000000\n",
      "E 1 =         -91.57937740, E 1 - E0 =          23.61570961\n",
      "E 2 =         -82.77332829, E 2 - E0 =          32.42175871\n",
      "E 3 =         -64.83266895, E 3 - E0 =          50.36241806\n",
      "E 4 =         -57.17230769, E 4 - E0 =          58.02277931\n",
      "E 5 =         -46.52509356, E 5 - E0 =          68.66999344\n",
      "E 6 =         -39.45511437, E 6 - E0 =          75.73997264\n",
      "E 7 =         -35.84652047, E 7 - E0 =          79.34856653\n",
      "E 8 =         -23.31544481, E 8 - E0 =          91.87964219\n",
      "E 9 =         -20.86506208, E 9 - E0 =          94.33002493\n",
      "E10 =         -14.30763457, E10 - E0 =         100.88745243\n",
      "E11 =         -10.11885570, E11 - E0 =         105.07623131\n",
      "E12 =          -5.81110573, E12 - E0 =         109.38398127\n",
      "E13 =          -3.19526871, E13 - E0 =         111.99981829\n",
      "E14 =           4.05599439, E14 - E0 =         119.25108140\n",
      "E15 =           5.28407116, E15 - E0 =         120.47915817\n",
      "E16 =           9.83545425, E16 - E0 =         125.03054126\n",
      "E17 =          13.88703246, E17 - E0 =         129.08211947\n",
      "E18 =          16.29717523, E18 - E0 =         131.49226224\n",
      "E19 =          20.12113917, E19 - E0 =         135.31622618\n",
      "E20 =          25.15202690, E20 - E0 =         140.34711390\n"
     ]
    }
   ],
   "source": [
    "for i in range(21):\n",
    "    print(f'E{i:2d} = {arhcl_energies_64[i]:20.8f}, E{i:2d} - E0 = {arhcl_energies_64[i] - arhcl_energies_64[0]:20.8f}')"
   ]
  },
  {
   "cell_type": "code",
   "execution_count": 10,
   "metadata": {},
   "outputs": [],
   "source": [
    "mgnh_pot_file = base_dir + 'mgnh.txt'\n",
    "\n",
    "mgnh_dvr_options_32 = {\n",
    "    'type': 'jacobi',\n",
    "    'J': 0,\n",
    "    'N_R': 20, \n",
    "    'N_theta': 4,\n",
    "    'l': 1,\n",
    "    'K_max': 0,\n",
    "    'r_min': 3,\n",
    "    'r_max': 6, \n",
    "    'trunc': 0\n",
    "}\n",
    "\n",
    "mgnh_pot = get_pot(mgnh_pot_file, take_cos=False)\n",
    "mgnh_dvr_vqe = DVR_VQE(mgnh_params, mgnh_pot, log_dir=scratch_dir + 'test/')\n",
    "mgnh_h_dvr = mgnh_dvr_vqe.get_h_dvr(mgnh_dvr_options_32, J=mgnh_dvr_options_32['J'])\n",
    "mgnh_energies_32 = np.linalg.eigvalsh(mgnh_h_dvr) * hartree"
   ]
  },
  {
   "cell_type": "code",
   "execution_count": 11,
   "metadata": {},
   "outputs": [
    {
     "data": {
      "text/plain": [
       "(170,)"
      ]
     },
     "execution_count": 11,
     "metadata": {},
     "output_type": "execute_result"
    }
   ],
   "source": [
    "from lib.utils import pauli_decompose\n",
    "\n",
    "pauli_decompose(mgnh_h_dvr).coeffs.shape"
   ]
  },
  {
   "cell_type": "code",
   "execution_count": 36,
   "metadata": {},
   "outputs": [
    {
     "name": "stdout",
     "output_type": "stream",
     "text": [
      "E 0 =         -88.19579902, E 0 - E0 =           0.00000000\n",
      "E 1 =         -62.92776669, E 1 - E0 =          25.26803233\n",
      "E 2 =         -54.96143699, E 2 - E0 =          33.23436202\n",
      "E 3 =         -40.01587319, E 3 - E0 =          48.17992583\n",
      "E 4 =         -32.37120608, E 4 - E0 =          55.82459294\n",
      "E 5 =         -21.90479773, E 5 - E0 =          66.29100128\n",
      "E 6 =         -12.61010259, E 6 - E0 =          75.58569643\n",
      "E 7 =          -4.96357951, E 7 - E0 =          83.23221951\n",
      "E 8 =           4.20206751, E 8 - E0 =          92.39786652\n",
      "E 9 =          16.41079374, E 9 - E0 =         104.60659276\n",
      "E10 =          22.01202009, E10 - E0 =         110.20781911\n",
      "E11 =          36.04316658, E11 - E0 =         124.23896559\n",
      "E12 =          45.34492258, E12 - E0 =         133.54072159\n",
      "E13 =          56.93367233, E13 - E0 =         145.12947134\n",
      "E14 =          71.64402666, E14 - E0 =         159.83982568\n",
      "E15 =          84.34278525, E15 - E0 =         172.53858427\n",
      "E16 =          95.46359503, E16 - E0 =         183.65939404\n",
      "E17 =         111.95957657, E17 - E0 =         200.15537559\n",
      "E18 =         117.55032790, E18 - E0 =         205.74612692\n",
      "E19 =         150.15011477, E19 - E0 =         238.34591379\n",
      "E20 =         182.28188431, E20 - E0 =         270.47768333\n"
     ]
    }
   ],
   "source": [
    "for i in range(21):\n",
    "    print(f'E{i:2d} = {mgnh_energies_32[i]:20.8f}, E{i:2d} - E0 = {mgnh_energies_32[i] - mgnh_energies_32[0]:20.8f}')"
   ]
  },
  {
   "cell_type": "code",
   "execution_count": 12,
   "metadata": {},
   "outputs": [
    {
     "name": "stdout",
     "output_type": "stream",
     "text": [
      "(64, 64)\n"
     ]
    }
   ],
   "source": [
    "mgnh_pot_file = base_dir + 'mgnh.txt'\n",
    "\n",
    "mgnh_dvr_options_64 = {\n",
    "    'type': 'jacobi',\n",
    "    'J': 0,\n",
    "    'N_R': 40, \n",
    "    'N_theta': 4,\n",
    "    'l': 1,\n",
    "    'K_max': 0,\n",
    "    'r_min': 3,\n",
    "    'r_max': 9, \n",
    "    'trunc': 0\n",
    "}\n",
    "\n",
    "mgnh_pot = get_pot(mgnh_pot_file, take_cos=False)\n",
    "mgnh_dvr_vqe = DVR_VQE(mgnh_params, mgnh_pot, log_dir=scratch_dir + 'test/')\n",
    "mgnh_h_dvr = mgnh_dvr_vqe.get_h_dvr(mgnh_dvr_options_64, J=mgnh_dvr_options_64['J'])\n",
    "print(mgnh_h_dvr.shape)\n",
    "mgnh_energies_64 = np.linalg.eigvalsh(mgnh_h_dvr) * hartree"
   ]
  },
  {
   "cell_type": "code",
   "execution_count": 13,
   "metadata": {},
   "outputs": [
    {
     "data": {
      "text/plain": [
       "(621,)"
      ]
     },
     "execution_count": 13,
     "metadata": {},
     "output_type": "execute_result"
    }
   ],
   "source": [
    "from lib.utils import pauli_decompose\n",
    "\n",
    "pauli_decompose(mgnh_h_dvr).coeffs.shape"
   ]
  },
  {
   "cell_type": "code",
   "execution_count": 38,
   "metadata": {},
   "outputs": [
    {
     "name": "stdout",
     "output_type": "stream",
     "text": [
      "E 0 =         -88.24441367, E 0 - E0 =           0.00000000\n",
      "E 1 =         -63.59314101, E 1 - E0 =          24.65127266\n",
      "E 2 =         -55.43612272, E 2 - E0 =          32.80829095\n",
      "E 3 =         -41.49723002, E 3 - E0 =          46.74718365\n",
      "E 4 =         -33.05664047, E 4 - E0 =          55.18777320\n",
      "E 5 =         -23.31718423, E 5 - E0 =          64.92722944\n",
      "E 6 =         -15.61624723, E 6 - E0 =          72.62816644\n",
      "E 7 =          -9.81106693, E 7 - E0 =          78.43334674\n",
      "E 8 =          -5.73077082, E 8 - E0 =          82.51364285\n",
      "E 9 =          -3.30528507, E 9 - E0 =          84.93912860\n",
      "E10 =           0.65158014, E10 - E0 =          88.89599381\n",
      "E11 =           3.50484398, E11 - E0 =          91.74925765\n",
      "E12 =           9.13285289, E12 - E0 =          97.37726656\n",
      "E13 =          12.87433341, E13 - E0 =         101.11874708\n",
      "E14 =          18.30876989, E14 - E0 =         106.55318356\n",
      "E15 =          20.14461914, E15 - E0 =         108.38903281\n",
      "E16 =          21.46035184, E16 - E0 =         109.70476551\n",
      "E17 =          25.23421752, E17 - E0 =         113.47863119\n",
      "E18 =          27.95325112, E18 - E0 =         116.19766479\n",
      "E19 =          33.51312805, E19 - E0 =         121.75754172\n",
      "E20 =          39.09454946, E20 - E0 =         127.33896313\n"
     ]
    }
   ],
   "source": [
    "for i in range(21):\n",
    "    print(f'E{i:2d} = {mgnh_energies_64[i]:20.8f}, E{i:2d} - E0 = {mgnh_energies_64[i] - mgnh_energies_64[0]:20.8f}')"
   ]
  },
  {
   "cell_type": "code",
   "execution_count": 39,
   "metadata": {},
   "outputs": [],
   "source": [
    "cr2_1_pot, lims = get_pot_cr2(1)\n",
    "\n",
    "cr2_1_dvr_options_8 = {\n",
    "    'type': '1d',\n",
    "    'box_lims': (3, 3.8),\n",
    "    'dx': 0.1, \n",
    "    'count': 8\n",
    "}\n",
    "\n",
    "params16 = [2.8, 4]\n",
    "cr2_1_dvr_options_16 = {\n",
    "    'type': '1d',\n",
    "    'box_lims': (params16[0], params16[1]),\n",
    "    'dx': (params16[1] - params16[0]) / 16,\n",
    "    'count': 16\n",
    "}\n",
    "\n",
    "cr2_1_dvr_vqe_8 = DVR_VQE(cr2_params, cr2_1_pot, log_dir=scratch_dir + 'test/')\n",
    "cr2_1_dvr_vqe_16 = DVR_VQE(cr2_params, cr2_1_pot, log_dir=scratch_dir + 'test/')\n",
    "\n",
    "cr2_1_h_dvr_8 = cr2_1_dvr_vqe_8.get_h_dvr(cr2_1_dvr_options_8)\n",
    "cr2_1_h_dvr_16 = cr2_1_dvr_vqe_16.get_h_dvr(cr2_1_dvr_options_16)\n",
    "\n",
    "cr2_1_energies_8 = np.linalg.eigvalsh(cr2_1_h_dvr_8) * hartree\n",
    "cr2_1_energies_16 = np.linalg.eigvalsh(cr2_1_h_dvr_16) * hartree"
   ]
  },
  {
   "cell_type": "code",
   "execution_count": 40,
   "metadata": {},
   "outputs": [],
   "source": [
    "cr2_3_pot, lims = get_pot_cr2(3)\n",
    "\n",
    "cr2_3_dvr_options_8 = {\n",
    "    'type': '1d',\n",
    "    'box_lims': (3.2, 4),\n",
    "    'dx': 0.1,\n",
    "    'count': 8\n",
    "}\n",
    "\n",
    "params16 = [3.2, 4.5]\n",
    "cr2_3_dvr_options_16 = {\n",
    "    'type': '1d',\n",
    "    'box_lims': (params16[0], params16[1]),\n",
    "    'dx': (params16[1] - params16[0]) / 16,\n",
    "    'count': 16\n",
    "}\n",
    "\n",
    "cr2_3_dvr_vqe_8 = DVR_VQE(cr2_params, cr2_3_pot, log_dir=scratch_dir + 'test/')\n",
    "cr2_3_dvr_vqe_16 = DVR_VQE(cr2_params, cr2_3_pot, log_dir=scratch_dir + 'test/')\n",
    "\n",
    "cr2_3_h_dvr_8 = cr2_3_dvr_vqe_8.get_h_dvr(cr2_3_dvr_options_8)\n",
    "cr2_3_h_dvr_16 = cr2_3_dvr_vqe_16.get_h_dvr(cr2_3_dvr_options_16)\n",
    "\n",
    "cr2_3_energies_8 = np.linalg.eigvalsh(cr2_3_h_dvr_8) * hartree\n",
    "cr2_3_energies_16 = np.linalg.eigvalsh(cr2_3_h_dvr_16) * hartree"
   ]
  },
  {
   "cell_type": "code",
   "execution_count": 41,
   "metadata": {},
   "outputs": [],
   "source": [
    "cr2_5_pot, lims = get_pot_cr2(5)\n",
    "\n",
    "cr2_5_dvr_options_8 = {\n",
    "    'type': '1d',\n",
    "    'box_lims': (3.95, 5.5),\n",
    "    'dx': 0.2,\n",
    "    'count': 8\n",
    "}\n",
    "\n",
    "params16 = [4, 6.5]\n",
    "cr2_5_dvr_options_16 = {\n",
    "    'type': '1d',\n",
    "    'box_lims': (params16[0], params16[1]),\n",
    "    'dx': (params16[1] - params16[0]) / 16,\n",
    "    'count': 16\n",
    "}\n",
    "\n",
    "cr2_5_dvr_vqe_8 = DVR_VQE(cr2_params, cr2_5_pot, log_dir=scratch_dir + 'test/')\n",
    "cr2_5_dvr_vqe_16 = DVR_VQE(cr2_params, cr2_5_pot, log_dir=scratch_dir + 'test/')\n",
    "\n",
    "cr2_5_h_dvr_8 = cr2_5_dvr_vqe_8.get_h_dvr(cr2_5_dvr_options_8)\n",
    "cr2_5_h_dvr_16 = cr2_5_dvr_vqe_16.get_h_dvr(cr2_5_dvr_options_16)\n",
    "\n",
    "cr2_5_energies_8 = np.linalg.eigvalsh(cr2_5_h_dvr_8) * hartree\n",
    "cr2_5_energies_16 = np.linalg.eigvalsh(cr2_5_h_dvr_16) * hartree"
   ]
  },
  {
   "cell_type": "code",
   "execution_count": 42,
   "metadata": {},
   "outputs": [],
   "source": [
    "cr2_7_pot, lims = get_pot_cr2(7)\n",
    "\n",
    "cr2_7_dvr_options_8 = {\n",
    "    'type': '1d',\n",
    "    'box_lims': (4.4, 5.7),\n",
    "    'dx': 0.16,\n",
    "    'count': \n",
    "}\n",
    "\n",
    "params16 = [4.3, 6.8]\n",
    "cr2_7_dvr_options_16 = {\n",
    "    'type': '1d',\n",
    "    'box_lims': (params16[0], params16[1]),\n",
    "    'dx': (params16[1] - params16[0]) / 16,\n",
    "    'count': 16\n",
    "}\n",
    "\n",
    "cr2_7_dvr_vqe_8 = DVR_VQE(cr2_params, cr2_7_pot, log_dir=scratch_dir + 'test/')\n",
    "cr2_7_dvr_vqe_16 = DVR_VQE(cr2_params, cr2_7_pot, log_dir=scratch_dir + 'test/')\n",
    "\n",
    "cr2_7_h_dvr_8 = cr2_7_dvr_vqe_8.get_h_dvr(cr2_7_dvr_options_8)\n",
    "cr2_7_h_dvr_16 = cr2_7_dvr_vqe_16.get_h_dvr(cr2_7_dvr_options_16)\n",
    "\n",
    "cr2_7_energies_8 = np.linalg.eigvalsh(cr2_7_h_dvr_8) * hartree\n",
    "cr2_7_energies_16 = np.linalg.eigvalsh(cr2_7_h_dvr_16) * hartree"
   ]
  },
  {
   "cell_type": "code",
   "execution_count": 43,
   "metadata": {},
   "outputs": [],
   "source": [
    "cr2_9_pot, lims = get_pot_cr2(9)\n",
    "\n",
    "cr2_9_dvr_options_8 = {\n",
    "    'type': '1d',\n",
    "    'box_lims': (4.4, 5.7),\n",
    "    'dx': 0.16,\n",
    "    'count': 8\n",
    "}\n",
    "\n",
    "params16 = [4.5, 7]\n",
    "cr2_9_dvr_options_16 = {\n",
    "    'type': '1d',\n",
    "    'box_lims': (params16[0], params16[1]),\n",
    "    'dx': (params16[1] - params16[0]) / 16,\n",
    "    'count': 16\n",
    "}\n",
    "\n",
    "cr2_9_dvr_vqe_8 = DVR_VQE(cr2_params, cr2_9_pot, log_dir=scratch_dir + 'test/')\n",
    "cr2_9_dvr_vqe_16 = DVR_VQE(cr2_params, cr2_9_pot, log_dir=scratch_dir + 'test/')\n",
    "\n",
    "cr2_9_h_dvr_8 = cr2_9_dvr_vqe_8.get_h_dvr(cr2_9_dvr_options_8)\n",
    "cr2_9_h_dvr_16 = cr2_9_dvr_vqe_16.get_h_dvr(cr2_9_dvr_options_16)\n",
    "\n",
    "cr2_9_energies_8 = np.linalg.eigvalsh(cr2_9_h_dvr_8) * hartree\n",
    "cr2_9_energies_16 = np.linalg.eigvalsh(cr2_9_h_dvr_16) * hartree"
   ]
  },
  {
   "cell_type": "code",
   "execution_count": 44,
   "metadata": {},
   "outputs": [],
   "source": [
    "cr2_11_pot, lims = get_pot_cr2(11)\n",
    "\n",
    "cr2_11_dvr_options_8 = {\n",
    "    'type': '1d',\n",
    "    'box_lims': (4.4, 5.7),\n",
    "    'dx': 0.16,\n",
    "    'count': 8\n",
    "}\n",
    "\n",
    "params16 = [4.6, 7]\n",
    "cr2_11_dvr_options_16 = {\n",
    "    'type': '1d',\n",
    "    'box_lims': (params16[0], params16[1]),\n",
    "    'dx': (params16[1] - params16[0]) / 16,\n",
    "    'count': 16\n",
    "}\n",
    "\n",
    "cr2_11_dvr_vqe_8 = DVR_VQE(cr2_params, cr2_11_pot, log_dir=scratch_dir + 'test/')\n",
    "cr2_11_dvr_vqe_16 = DVR_VQE(cr2_params, cr2_11_pot, log_dir=scratch_dir + 'test/')\n",
    "\n",
    "cr2_11_h_dvr_8 = cr2_11_dvr_vqe_8.get_h_dvr(cr2_11_dvr_options_8)\n",
    "cr2_11_h_dvr_16 = cr2_11_dvr_vqe_16.get_h_dvr(cr2_11_dvr_options_16)\n",
    "\n",
    "cr2_11_energies_8 = np.linalg.eigvalsh(cr2_11_h_dvr_8) * hartree\n",
    "cr2_11_energies_16 = np.linalg.eigvalsh(cr2_11_h_dvr_16) * hartree"
   ]
  },
  {
   "cell_type": "code",
   "execution_count": 45,
   "metadata": {},
   "outputs": [],
   "source": [
    "cr2_13_pot, lims = get_pot_cr2(13)\n",
    "\n",
    "cr2_13_dvr_options_8 = {\n",
    "    'type': '1d',\n",
    "    'box_lims': (5, 7.3),\n",
    "    'dx': 0.3,\n",
    "    'count': 8\n",
    "}\n",
    "\n",
    "params16 = [5.2, 9]\n",
    "cr2_13_dvr_options_16 = {\n",
    "    'type': '1d',\n",
    "    'box_lims': (params16[0], params16[1]),\n",
    "    'dx': (params16[1] - params16[0]) / 16,\n",
    "    'count': 16\n",
    "}\n",
    "\n",
    "cr2_13_dvr_vqe_8 = DVR_VQE(cr2_params, cr2_13_pot, log_dir=scratch_dir + 'test/')\n",
    "cr2_13_pot2 = lambda x: cr2_13_pot(x) + 2.623407937141139e-3\n",
    "cr2_13_dvr_vqe_16 = DVR_VQE(cr2_params, cr2_13_pot2, log_dir=scratch_dir + 'test/')\n",
    "\n",
    "cr2_13_h_dvr_8 = cr2_13_dvr_vqe_8.get_h_dvr(cr2_13_dvr_options_8)\n",
    "cr2_13_h_dvr_16 = cr2_13_dvr_vqe_16.get_h_dvr(cr2_13_dvr_options_16)\n",
    "\n",
    "cr2_13_energies_8 = np.linalg.eigvalsh(cr2_13_h_dvr_8) * hartree\n",
    "cr2_13_energies_16 = (np.linalg.eigvalsh(cr2_13_h_dvr_16) - 2.623407937141139e-3) * hartree"
   ]
  },
  {
   "cell_type": "code",
   "execution_count": 46,
   "metadata": {},
   "outputs": [
    {
     "name": "stdout",
     "output_type": "stream",
     "text": [
      "E 0 =      -15358.82717971, E 0 - E0 =           0.00000000\n",
      "E 1 =      -14852.09611802, E 1 - E0 =         506.73106169\n",
      "E 2 =      -14308.48934589, E 2 - E0 =        1050.33783382\n",
      "E 3 =      -13934.15665129, E 3 - E0 =        1424.67052843\n",
      "E 4 =      -13076.44670416, E 4 - E0 =        2282.38047555\n",
      "E 5 =      -12846.52188178, E 5 - E0 =        2512.30529793\n",
      "E 6 =      -12073.16351308, E 6 - E0 =        3285.66366663\n",
      "E 7 =      -10961.34968758, E 7 - E0 =        4397.47749213\n",
      "------------------------------\n",
      "E 0 =      -15358.98643824, E 0 - E0 =           0.00000000\n",
      "E 1 =      -14846.96060850, E 1 - E0 =         512.02582974\n",
      "E 2 =      -14332.81799164, E 2 - E0 =        1026.16844660\n",
      "E 3 =      -13827.29156613, E 3 - E0 =        1531.69487211\n",
      "E 4 =      -13335.44982302, E 4 - E0 =        2023.53661522\n",
      "E 5 =      -12868.75027573, E 5 - E0 =        2490.23616251\n",
      "E 6 =      -12384.81692116, E 6 - E0 =        2974.16951708\n",
      "E 7 =      -12092.51719363, E 7 - E0 =        3266.46924461\n",
      "E 8 =      -11522.29897934, E 8 - E0 =        3836.68745890\n",
      "E 9 =      -11016.31819721, E 9 - E0 =        4342.66824104\n",
      "E10 =      -10912.01590178, E10 - E0 =        4446.97053646\n",
      "E11 =      -10323.59285187, E11 - E0 =        5035.39358638\n",
      "E12 =       -9545.90014741, E12 - E0 =        5813.08629083\n",
      "E13 =       -8989.60679262, E13 - E0 =        6369.37964562\n",
      "E14 =       -8284.61527689, E14 - E0 =        7074.37116135\n",
      "E15 =       -5890.52379972, E15 - E0 =        9468.46263852\n"
     ]
    }
   ],
   "source": [
    "for i in range(8):\n",
    "    print(f'E{i:2d} = {cr2_1_energies_8[i]:20.8f}, E{i:2d} - E0 = {cr2_1_energies_8[i] - cr2_1_energies_8[0]:20.8f}')\n",
    "print('------------------------------')\n",
    "for i in range(16):\n",
    "    print(f'E{i:2d} = {cr2_1_energies_16[i]:20.8f}, E{i:2d} - E0 = {cr2_1_energies_16[i] - cr2_1_energies_16[0]:20.8f}')"
   ]
  },
  {
   "cell_type": "code",
   "execution_count": 47,
   "metadata": {},
   "outputs": [
    {
     "name": "stdout",
     "output_type": "stream",
     "text": [
      "E 0 =       -9862.27848232, E 0 - E0 =           0.00000000\n",
      "E 1 =       -9558.76331333, E 1 - E0 =         303.51516899\n",
      "E 2 =       -9293.30769501, E 2 - E0 =         568.97078732\n",
      "E 3 =       -9031.09946828, E 3 - E0 =         831.17901404\n",
      "E 4 =       -8724.25161270, E 4 - E0 =        1138.02686963\n",
      "E 5 =       -8419.87628224, E 5 - E0 =        1442.40220009\n",
      "E 6 =       -7883.07844073, E 6 - E0 =        1979.20004160\n",
      "E 7 =       -7632.05198520, E 7 - E0 =        2230.22649713\n",
      "------------------------------\n",
      "E 0 =       -9862.13984763, E 0 - E0 =           0.00000000\n",
      "E 1 =       -9559.41170831, E 1 - E0 =         302.72813933\n",
      "E 2 =       -9300.87642022, E 2 - E0 =         561.26342741\n",
      "E 3 =       -9080.42480533, E 3 - E0 =         781.71504230\n",
      "E 4 =       -8896.81668323, E 4 - E0 =         965.32316441\n",
      "E 5 =       -8742.68299551, E 5 - E0 =        1119.45685213\n",
      "E 6 =       -8588.88927493, E 6 - E0 =        1273.25057270\n",
      "E 7 =       -8411.98648460, E 7 - E0 =        1450.15336304\n",
      "E 8 =       -8207.21162559, E 8 - E0 =        1654.92822205\n",
      "E 9 =       -7972.88100101, E 9 - E0 =        1889.25884662\n",
      "E10 =       -7722.31384840, E10 - E0 =        2139.82599924\n",
      "E11 =       -7462.62121131, E11 - E0 =        2399.51863633\n",
      "E12 =       -7129.23221895, E12 - E0 =        2732.90762868\n",
      "E13 =       -6730.27977905, E13 - E0 =        3131.86006858\n",
      "E14 =       -6562.14772290, E14 - E0 =        3299.99212473\n",
      "E15 =       -6004.10878374, E15 - E0 =        3858.03106389\n"
     ]
    }
   ],
   "source": [
    "for i in range(8):\n",
    "    print(f'E{i:2d} = {cr2_3_energies_8[i]:20.8f}, E{i:2d} - E0 = {cr2_3_energies_8[i] - cr2_3_energies_8[0]:20.8f}')\n",
    "print('------------------------------')\n",
    "for i in range(16):\n",
    "    print(f'E{i:2d} = {cr2_3_energies_16[i]:20.8f}, E{i:2d} - E0 = {cr2_3_energies_16[i] - cr2_3_energies_16[0]:20.8f}')"
   ]
  },
  {
   "cell_type": "code",
   "execution_count": 48,
   "metadata": {},
   "outputs": [
    {
     "name": "stdout",
     "output_type": "stream",
     "text": [
      "E 0 =       -7566.77112278, E 0 - E0 =           0.00000000\n",
      "E 1 =       -7413.52558747, E 1 - E0 =         153.24553531\n",
      "E 2 =       -7286.65339957, E 2 - E0 =         280.11772322\n",
      "E 3 =       -7065.73718691, E 3 - E0 =         501.03393587\n",
      "E 4 =       -6989.73734100, E 4 - E0 =         577.03378178\n",
      "E 5 =       -6666.47028743, E 5 - E0 =         900.30083535\n",
      "E 6 =       -6444.08110700, E 6 - E0 =        1122.69001578\n",
      "E 7 =       -6153.70433184, E 7 - E0 =        1413.06679094\n",
      "------------------------------\n",
      "E 0 =       -7566.50014890, E 0 - E0 =           0.00000000\n",
      "E 1 =       -7416.28777659, E 1 - E0 =         150.21237231\n",
      "E 2 =       -7264.68535137, E 2 - E0 =         301.81479753\n",
      "E 3 =       -7118.42975272, E 3 - E0 =         448.07039619\n",
      "E 4 =       -6958.08138017, E 4 - E0 =         608.41876873\n",
      "E 5 =       -6840.02261275, E 5 - E0 =         726.47753615\n",
      "E 6 =       -6664.77052118, E 6 - E0 =         901.72962773\n",
      "E 7 =       -6392.04099838, E 7 - E0 =        1174.45915052\n",
      "E 8 =       -6320.70139068, E 8 - E0 =        1245.79875822\n",
      "E 9 =       -5928.67793255, E 9 - E0 =        1637.82221635\n",
      "E10 =       -5506.10825953, E10 - E0 =        2060.39188937\n",
      "E11 =       -5069.44364489, E11 - E0 =        2497.05650402\n",
      "E12 =       -4630.90169388, E12 - E0 =        2935.59845503\n",
      "E13 =       -4200.42747968, E13 - E0 =        3366.07266922\n",
      "E14 =       -3783.77633614, E14 - E0 =        3782.72381277\n",
      "E15 =       -3294.46970379, E15 - E0 =        4272.03044512\n"
     ]
    }
   ],
   "source": [
    "for i in range(8):\n",
    "    print(f'E{i:2d} = {cr2_5_energies_8[i]:20.8f}, E{i:2d} - E0 = {cr2_5_energies_8[i] - cr2_5_energies_8[0]:20.8f}')\n",
    "print('------------------------------')\n",
    "for i in range(16):\n",
    "    print(f'E{i:2d} = {cr2_5_energies_16[i]:20.8f}, E{i:2d} - E0 = {cr2_5_energies_16[i] - cr2_5_energies_16[0]:20.8f}')"
   ]
  },
  {
   "cell_type": "code",
   "execution_count": 49,
   "metadata": {},
   "outputs": [
    {
     "name": "stdout",
     "output_type": "stream",
     "text": [
      "E 0 =       -6519.03335167, E 0 - E0 =           0.00000000\n",
      "E 1 =       -6349.98216789, E 1 - E0 =         169.05118378\n",
      "E 2 =       -6183.28878746, E 2 - E0 =         335.74456421\n",
      "E 3 =       -6025.04087201, E 3 - E0 =         493.99247966\n",
      "E 4 =       -5796.49553663, E 4 - E0 =         722.53781504\n",
      "E 5 =       -5719.31316603, E 5 - E0 =         799.72018564\n",
      "E 6 =       -5432.38693054, E 6 - E0 =        1086.64642113\n",
      "E 7 =       -4970.41807868, E 7 - E0 =        1548.61527298\n",
      "------------------------------\n",
      "E 0 =       -6519.03600082, E 0 - E0 =           0.00000000\n",
      "E 1 =       -6350.11433045, E 1 - E0 =         168.92167037\n",
      "E 2 =       -6185.17413004, E 2 - E0 =         333.86187078\n",
      "E 3 =       -6018.27761426, E 3 - E0 =         500.75838656\n",
      "E 4 =       -5849.10468054, E 4 - E0 =         669.93132028\n",
      "E 5 =       -5731.32726368, E 5 - E0 =         787.70873714\n",
      "E 6 =       -5421.37272728, E 6 - E0 =        1097.66327354\n",
      "E 7 =       -5282.68767216, E 7 - E0 =        1236.34832866\n",
      "E 8 =       -5048.18222123, E 8 - E0 =        1470.85377959\n",
      "E 9 =       -4650.37706304, E 9 - E0 =        1868.65893778\n",
      "E10 =       -4243.20358019, E10 - E0 =        2275.83242063\n",
      "E11 =       -3840.06007877, E11 - E0 =        2678.97592205\n",
      "E12 =       -3449.87757118, E12 - E0 =        3069.15842964\n",
      "E13 =       -3079.24369784, E13 - E0 =        3439.79230298\n",
      "E14 =       -2728.82795550, E14 - E0 =        3790.20804532\n",
      "E15 =       -2292.91369560, E15 - E0 =        4226.12230522\n"
     ]
    }
   ],
   "source": [
    "for i in range(8):\n",
    "    print(f'E{i:2d} = {cr2_7_energies_8[i]:20.8f}, E{i:2d} - E0 = {cr2_7_energies_8[i] - cr2_7_energies_8[0]:20.8f}')\n",
    "print('------------------------------')\n",
    "for i in range(16):\n",
    "    print(f'E{i:2d} = {cr2_7_energies_16[i]:20.8f}, E{i:2d} - E0 = {cr2_7_energies_16[i] - cr2_7_energies_16[0]:20.8f}')"
   ]
  },
  {
   "cell_type": "code",
   "execution_count": 50,
   "metadata": {},
   "outputs": [
    {
     "name": "stdout",
     "output_type": "stream",
     "text": [
      "E 0 =       -5348.82319517, E 0 - E0 =           0.00000000\n",
      "E 1 =       -5175.60277194, E 1 - E0 =         173.22042323\n",
      "E 2 =       -5004.99678371, E 2 - E0 =         343.82641146\n",
      "E 3 =       -4851.88550586, E 3 - E0 =         496.93768931\n",
      "E 4 =       -4626.34168371, E 4 - E0 =         722.48151147\n",
      "E 5 =       -4552.99301436, E 5 - E0 =         795.83018081\n",
      "E 6 =       -4199.38613820, E 6 - E0 =        1149.43705697\n",
      "E 7 =       -3846.33889949, E 7 - E0 =        1502.48429568\n",
      "------------------------------\n",
      "E 0 =       -5348.82300996, E 0 - E0 =           0.00000000\n",
      "E 1 =       -5175.50950864, E 1 - E0 =         173.31350133\n",
      "E 2 =       -5008.55601137, E 2 - E0 =         340.26699859\n",
      "E 3 =       -4829.92309082, E 3 - E0 =         518.89991914\n",
      "E 4 =       -4683.67546442, E 4 - E0 =         665.14754555\n",
      "E 5 =       -4530.16028784, E 5 - E0 =         818.66272213\n",
      "E 6 =       -4216.27869938, E 6 - E0 =        1132.54431058\n",
      "E 7 =       -4095.57984045, E 7 - E0 =        1253.24316952\n",
      "E 8 =       -3860.23974239, E 8 - E0 =        1488.58326758\n",
      "E 9 =       -3494.86058811, E 9 - E0 =        1853.96242185\n",
      "E10 =       -3134.47401988, E10 - E0 =        2214.34899008\n",
      "E11 =       -2789.24824510, E11 - E0 =        2559.57476486\n",
      "E12 =       -2465.93875066, E12 - E0 =        2882.88425931\n",
      "E13 =       -2167.73124513, E13 - E0 =        3181.09176484\n",
      "E14 =       -1886.96938741, E14 - E0 =        3461.85362255\n",
      "E15 =       -1503.89000724, E15 - E0 =        3844.93300272\n"
     ]
    }
   ],
   "source": [
    "for i in range(8):\n",
    "    print(f'E{i:2d} = {cr2_9_energies_8[i]:20.8f}, E{i:2d} - E0 = {cr2_9_energies_8[i] - cr2_9_energies_8[0]:20.8f}')\n",
    "print('------------------------------')\n",
    "for i in range(16):\n",
    "    print(f'E{i:2d} = {cr2_9_energies_16[i]:20.8f}, E{i:2d} - E0 = {cr2_9_energies_16[i] - cr2_9_energies_16[0]:20.8f}')"
   ]
  },
  {
   "cell_type": "code",
   "execution_count": 51,
   "metadata": {},
   "outputs": [
    {
     "name": "stdout",
     "output_type": "stream",
     "text": [
      "E 0 =       -3677.65892904, E 0 - E0 =           0.00000000\n",
      "E 1 =       -3507.39692659, E 1 - E0 =         170.26200245\n",
      "E 2 =       -3344.36920825, E 2 - E0 =         333.28972079\n",
      "E 3 =       -3175.00814028, E 3 - E0 =         502.65078877\n",
      "E 4 =       -2985.50418683, E 4 - E0 =         692.15474221\n",
      "E 5 =       -2820.35925898, E 5 - E0 =         857.29967006\n",
      "E 6 =       -2332.48048223, E 6 - E0 =        1345.17844681\n",
      "E 7 =       -1179.16457954, E 7 - E0 =        2498.49434950\n",
      "------------------------------\n",
      "E 0 =       -3677.68411071, E 0 - E0 =           0.00000000\n",
      "E 1 =       -3507.82052346, E 1 - E0 =         169.86358725\n",
      "E 2 =       -3341.40338884, E 2 - E0 =         336.28072187\n",
      "E 3 =       -3186.93162677, E 3 - E0 =         490.75248395\n",
      "E 4 =       -3012.82047843, E 4 - E0 =         664.86363229\n",
      "E 5 =       -2874.49128298, E 5 - E0 =         803.19282774\n",
      "E 6 =       -2754.51420565, E 6 - E0 =         923.16990506\n",
      "E 7 =       -2507.41476532, E 7 - E0 =        1170.26934540\n",
      "E 8 =       -2252.90162656, E 8 - E0 =        1424.78248416\n",
      "E 9 =       -2211.46872276, E 9 - E0 =        1466.21538796\n",
      "E10 =       -2004.77805126, E10 - E0 =        1672.90605946\n",
      "E11 =       -1774.48772807, E11 - E0 =        1903.19638264\n",
      "E12 =       -1562.79889526, E12 - E0 =        2114.88521546\n",
      "E13 =       -1365.84306381, E13 - E0 =        2311.84104690\n",
      "E14 =       -1150.54311798, E14 - E0 =        2527.14099274\n",
      "E15 =        -802.83729540, E15 - E0 =        2874.84681531\n"
     ]
    }
   ],
   "source": [
    "for i in range(8):\n",
    "    print(f'E{i:2d} = {cr2_11_energies_8[i]:20.8f}, E{i:2d} - E0 = {cr2_11_energies_8[i] - cr2_11_energies_8[0]:20.8f}')\n",
    "print('------------------------------')\n",
    "for i in range(16):\n",
    "    print(f'E{i:2d} = {cr2_11_energies_16[i]:20.8f}, E{i:2d} - E0 = {cr2_11_energies_16[i] - cr2_11_energies_16[0]:20.8f}')"
   ]
  },
  {
   "cell_type": "code",
   "execution_count": 52,
   "metadata": {},
   "outputs": [
    {
     "name": "stdout",
     "output_type": "stream",
     "text": [
      "E 0 =        -548.58246973, E 0 - E0 =           0.00000000\n",
      "E 1 =        -497.34015579, E 1 - E0 =          51.24231394\n",
      "E 2 =        -450.45737599, E 2 - E0 =          98.12509374\n",
      "E 3 =        -398.56185447, E 3 - E0 =         150.02061526\n",
      "E 4 =        -344.69279361, E 4 - E0 =         203.88967612\n",
      "E 5 =        -299.77894652, E 5 - E0 =         248.80352321\n",
      "E 6 =         -34.35285434, E 6 - E0 =         514.22961540\n",
      "E 7 =         660.65859301, E 7 - E0 =        1209.24106274\n",
      "------------------------------\n",
      "E 0 =        -548.67554318, E 0 - E0 =           0.00000000\n",
      "E 1 =        -497.15325215, E 1 - E0 =          51.52229103\n",
      "E 2 =        -449.26088962, E 2 - E0 =          99.41465356\n",
      "E 3 =        -404.67410888, E 3 - E0 =         144.00143429\n",
      "E 4 =        -362.99006359, E 4 - E0 =         185.68547959\n",
      "E 5 =        -325.72205626, E 5 - E0 =         222.95348691\n",
      "E 6 =        -294.32712389, E 6 - E0 =         254.34841928\n",
      "E 7 =        -263.10020988, E 7 - E0 =         285.57533330\n",
      "E 8 =        -230.11943577, E 8 - E0 =         318.55610740\n",
      "E 9 =        -196.29877760, E 9 - E0 =         352.37676558\n",
      "E10 =        -157.68112791, E10 - E0 =         390.99441526\n",
      "E11 =        -131.03499787, E11 - E0 =         417.64054530\n",
      "E12 =        -105.54237729, E12 - E0 =         443.13316589\n",
      "E13 =         -41.17526055, E13 - E0 =         507.50028263\n",
      "E14 =          58.14172189, E14 - E0 =         606.81726506\n",
      "E15 =         249.96266379, E15 - E0 =         798.63820697\n"
     ]
    }
   ],
   "source": [
    "for i in range(8):\n",
    "    print(f'E{i:2d} = {cr2_13_energies_8[i]:20.8f}, E{i:2d} - E0 = {cr2_13_energies_8[i] - cr2_13_energies_8[0]:20.8f}')\n",
    "print('------------------------------')\n",
    "for i in range(16):\n",
    "    print(f'E{i:2d} = {cr2_13_energies_16[i]:20.8f}, E{i:2d} - E0 = {cr2_13_energies_16[i] - cr2_13_energies_16[0]:20.8f}')"
   ]
  },
  {
   "cell_type": "code",
   "execution_count": 54,
   "metadata": {},
   "outputs": [],
   "source": [
    "np.savez(scratch_dir + 'refs/constrained/refs.npz', arhcl_32=arhcl_energies_32, mgnh_32=mgnh_energies_32, \n",
    "        arhcl_64=arhcl_energies_64, mgnh_64=mgnh_energies_64, cr2_1_8=cr2_1_energies_8, cr2_1_16=cr2_1_energies_16, \n",
    "        cr2_3_8=cr2_3_energies_8, cr2_3_16=cr2_3_energies_16, cr2_5_8=cr2_5_energies_8, cr2_5_16=cr2_5_energies_16, \n",
    "        cr2_7_8=cr2_7_energies_8, cr2_7_16=cr2_7_energies_16, cr2_9_8=cr2_9_energies_8, cr2_9_16=cr2_9_energies_16, \n",
    "        cr2_11_8=cr2_11_energies_8, cr2_11_16=cr2_11_energies_16, cr2_13_8=cr2_13_energies_8, cr2_13_16=cr2_13_energies_16)"
   ]
  },
  {
   "cell_type": "code",
   "execution_count": null,
   "metadata": {},
   "outputs": [],
   "source": []
  }
 ],
 "metadata": {
  "kernelspec": {
   "display_name": "qiskit_env",
   "language": "python",
   "name": "python3"
  },
  "language_info": {
   "codemirror_mode": {
    "name": "ipython",
    "version": 3
   },
   "file_extension": ".py",
   "mimetype": "text/x-python",
   "name": "python",
   "nbconvert_exporter": "python",
   "pygments_lexer": "ipython3",
   "version": "3.10.4"
  },
  "orig_nbformat": 4,
  "vscode": {
   "interpreter": {
    "hash": "2233fe63f74857783562d5cb2946a5823237fd835cc459c07b744bc5eb509c57"
   }
  }
 },
 "nbformat": 4,
 "nbformat_minor": 2
}
